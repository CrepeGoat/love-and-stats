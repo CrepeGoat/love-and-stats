{
 "cells": [
  {
   "cell_type": "markdown",
   "id": "8e6ac44d-bef2-42bb-a6bc-f28eab849144",
   "metadata": {},
   "source": [
    "# Overview\n",
    "\n",
    "This project explores an optimal solution to the game-theory problem known as \"The Marriage Problem\"."
   ]
  },
  {
   "cell_type": "markdown",
   "id": "ae9c7129-bae2-4745-998d-beaa7019a1db",
   "metadata": {},
   "source": [
    "## What's \"The Marriage Problem\"?\n",
    "\n",
    "The problem is defined as such:\n",
    "- Assume that the player is going to meet $n$ people one at a time. **The player's goal is to choose the \"best\" person that they can out of the $n$ people** to be their partner.\n",
    "- We assume the player has some means of deciding which one is the \"best\", enough to be able to compare any two people and say that one is strictly \"better\" than the other. We can extend this to say that there exists some \"goodness ranking\" among the $n$ people; i.e., there is a 1st best person, 2nd best, etc.\n",
    "- However, the player has not met any of these people before. So when they first meet, the player will not know what the person's *overall* rank is; the player can only reason what their *relative* ranking is compared to the people they have met thus far.\n",
    "- Moreover, once the payer meets a person, the player must *immediately* decide whether or not to choose the newly-met person.\n",
    "    - If the player chooses that person, the game is over.\n",
    "    - If the player does *not* choose that person, the player can*NOT* choose them again later in the game; that person is gone, and the player meets the next person."
   ]
  },
  {
   "cell_type": "markdown",
   "id": "1bf30012-4ea7-4898-97a6-6ff424838514",
   "metadata": {},
   "source": [
    "## Why do we care about this problem?\n",
    "It's not a perfect analogy, but this simplified logic problem applies to situations where you might have to decide among several different options, but not all of the options have presented themselves yet. Some examples are:\n",
    "- dating (as suggested by the name)\n",
    "- finding housing\n",
    "- applying for jobs\n",
    "\n",
    "This problem would normally be somewhat of a statistical question, where you can make some guess about the population of options after seeing a certain number of potentials and choose based on that estimated distribution. However, the key condition that makes this problem much simpler is in *the number of options, $n$*; this changes the problem into more of a *combinatorics* problem."
   ]
  },
  {
   "cell_type": "code",
   "execution_count": null,
   "id": "947249c6-0003-4732-9866-5007c230d16c",
   "metadata": {},
   "outputs": [],
   "source": []
  }
 ],
 "metadata": {
  "kernelspec": {
   "display_name": "Python 3 (ipykernel)",
   "language": "python",
   "name": "python3"
  },
  "language_info": {
   "codemirror_mode": {
    "name": "ipython",
    "version": 3
   },
   "file_extension": ".py",
   "mimetype": "text/x-python",
   "name": "python",
   "nbconvert_exporter": "python",
   "pygments_lexer": "ipython3",
   "version": "3.8.8"
  }
 },
 "nbformat": 4,
 "nbformat_minor": 5
}
